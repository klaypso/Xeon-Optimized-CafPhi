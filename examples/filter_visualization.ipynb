{
 "metadata": {
  "description": "Extracting features and visualizing trained filters with an example image, viewed layer-by-layer.",
  "example_name": "Filter visualization",
  "include_in_docs": true,
  "priority": 2,
  "signature": "sha256:64c88129e2eeaa956e4c8a26467ff6119f24ea3d7ef15f8217326249973bea8f"
 },
 "nbformat": 3,
 "nbformat_minor": 0,
 "worksheets": [
  {
   "cells": [
    {
     "cell_type": "markdown",
     "metadata": {},
     "source": [
      "Here we visualize filters and outputs using the network architecture proposed by Krizhevsky et al. for ImageNet and implemented in `caffe`.\n",
      "\n",
      "(This page follows DeCAF visualizations originally by Yangqing Jia.)"
     ]
    },
    {
     "cell_type": "markdown",
     "metadata": {},
     "source": [
      "First, import required modules, set plotting parameters, and run `./scripts/download_model_binary.py models/bvlc_reference_caffenet` to get the pretrained CaffeNet model if it hasn't already been fetched."
     ]
    },
    {
     "cell_type": "code",
     "collapsed": false,
     "input": [
      "import numpy as np\n",
      "import matplotlib.pyplot as plt\n",
      "%matplotlib inline\n",
      "\n",
      "# Make sure that caffe is on the python path:\n",
      "caffe_root = '../'  # this file is expected to be in {caffe_root}/examples\n",
      "import sys\n",
      "sys.path.insert(0, caffe_root + 'python')\n",
      "\n",
      "import caffe\n",
      "\n",
      "plt.rcParams['figure.figsize'] = (10, 10)\n",
      "plt.rcParams['image.interpolation'] = 'nearest'\n",
      "plt.rcParams['image.cmap'] = 'gray'\n",
      "\n",
      "import os\n",
      "if not os.path.isfile(caffe_root + 'models/bvlc_reference_caffenet/bvlc_reference_caffenet.caffemodel'):\n",
      "    print(\"Downloading pre-trained CaffeNet model...\")\n",
      "    !../scripts/download_model_binary.py ../models/bvlc_reference_caffenet"
     ],
     "language": "python",
     "metadata": {},
     "outputs": [],
     "prompt_number": 1
    },
    {
     "cell_type": "markdown",
     "metadata": {},
     "source": [
      "Set Caffe to CPU mode, load the net in the test phase for inference, and configure input preprocessing."
     ]
    },
    {
     "cell_type": "code",
     "collapsed": false,
     "input": [
      "caffe.set_mode_cpu()\n",
      "net = caffe.Net(caffe_root + 'models/bvlc_reference_caffenet/deploy.prototxt',\n",
      "                caffe_root + 'models/bvlc_reference_caffenet/bvlc_reference_caffenet.caffemodel',\n",
      "                caffe.TEST)\n",
      "\n",
      "# input preprocessing: 'data' is the name of the input blob == net.inputs[0]\n",
      "transformer = caffe.io.Transformer({'data': net.blobs['data'].data.shape})\n",
      "transformer.set_transpose('data', (2,0,1))\n",
      "transformer.set_mean('data', np.load(caffe_root + 'python/caffe/imagenet/ilsvrc_2012_mean.npy').mean(1).mean(1)) # mean pixel\n",
      "transformer.set_raw_scale('data', 255)  # the reference model operates on images in [0,255] range instead of [0,1]\n",
      "transformer.set_channel_swap('data', (2,1,0))  # the reference model has channels in BGR order instead of RGB"
     ],
     "language": "python",
     "metadata": {},
     "outputs": [],
     "prompt_number": 2
    },
    {
     "cell_type": "markdown",
     "metadata": {},
     "source": [
      "Classify the image by reshaping the net for the single input then doing the forward pass."
     ]
    },
    {
     "cell_type": "code",
     "collapsed": false,
     "input": [
      "net.blobs['data'].reshape(1,3,227,227)\n",
      "net.blobs['data'].data[...] = transformer.preprocess('data', caffe.io.load_image(caffe_root + 'examples/images/cat.jpg'))\n",
      "out = net.forward()\n",
      "print(\"Predicted class is #{}.\".format(out['prob'].argmax()))"
     ],
     "language": "python",
     "metadata": {},
     "outputs": [
      {
       "output_type": "stream",
       "stream": "stdout",
       "text": [
        "Predicted class is #281.\n"
       ]
      }
     ],
     "prompt_number": 3
    },
    {
     "cell_type": "markdown",
     "metadata": {},
     "source": [
      "The layer features and their shapes (1 is the batch size, corresponding to the single input image in this example)."
     ]
    },
    {
     "cell_type": "code",
     "collapsed": false,
     "input": [
      "[(k, v.data.shape) for k, v in net.blobs.items()]"
     ],
     "language": "python",
     "metadata": {},
     "outputs": [
      {
       "metadata": {},
       "output_type": "pyout",
       "prompt_number": 4,
       "text": [
        "[('data', (1, 3, 227, 227)),\n",
        " ('conv1', (1, 96, 55, 55)),\n",
        " ('pool1', (1, 96, 27, 27)),\n",
        " ('norm1', (1, 96, 27, 27)),\n",
        " ('conv2', (1, 256, 27, 27)),\n",
        " ('pool2', (1, 256, 13, 13)),\n",
        " ('norm2', (1, 256, 13, 13)),\n",
        " ('conv3', (1, 384, 13, 13)),\n",
        " ('conv4', (1, 384, 13, 13)),\n",
        " ('conv5', (1, 256, 13, 13)),\n",
        " ('pool5', (1, 256, 6, 6)),\n",
        " ('fc6', (1, 4096)),\n",
        " ('fc7', (1, 4096)),\n",
        " ('fc8', (1, 1000)),\n",
        " ('prob', (1, 1000))]"
       ]
      }
     ],
     "prompt_number": 4
    },
    {
     "cell_type": "markdown",
     "metadata": {},
     "source": [
      "The parameters and their shapes. The parameters are `net.params['name'][0]` while biases are `net.params['name'][1]`."
     ]
    },
    {
     "cell_type": "code",
     "collapsed": false,
     "input": [
      "[(k, v[0].data.shape) for k, v in net.params.items()]"
     ],
     "language": "python",
     "metadata": {},
     "outputs": [
      {
       "metadata": {},
       "output_type": "pyout",
       "prompt_number": 5,
       "text": [
        "[('conv1', (96, 3, 11, 11)),\n",
        " ('conv2', (256, 48, 5, 5)),\n",
        " ('conv3', (384, 256, 3, 3)),\n",
        " ('conv4', (384, 192, 3, 3)),\n",
        " ('conv5', (256, 192, 3, 3)),\n",
        " ('fc6', (4096, 9216)),\n",
        " ('fc7', (4096, 4096)),\n",
        " ('fc8', (1000, 4096))]"
       ]
      }
     ],
     "prompt_number": 5
    },
    {
     "cell_type": "markdown",
     "metadata": {},
     "source": [
      "Helper functions for visualization"
     ]
    },
    {
     "cell_type": "code",
     "collapsed": false,
     "input": [
      "# take an array of shape (n, height, width) or (n, height, width, channels)\n",
      "# and visualize each (height, width) thing in a grid of size approx. sqrt(n) by sqrt(n)\n",
      "def vis_square(data, padsize=1, padval=0):\n",
      "    data -= data.min()\n",
      "    data /= data.max()\n",
      "    \n",
      "    # force the number of filters to be square\n",
      "    n = int(np.ceil(np.sqrt(data.shape[0])))\n",
      "    padding = ((0, n ** 2 - data.shape[0]), (0, padsize), (0, padsize)) + ((0, 0),) * (data.ndim - 3)\n",
      "    data = np.pad(data, padding, mode='constant', constant_values=(padval, padval))\n",
      "    \n",
      "    # tile the filters into an image\n",
      "    data = data.reshape((n, n) + data.shape[1:]).transpose((0, 2, 1, 3) + tuple(range(4, data.ndim + 1)))\n",
      "    data = data.reshape((n * data.shape[1], n * data.shape[3]) + data.shape[4:])\n",
      "    \n",
      "    plt.imshow(data)"
     ],
     "language": "python",
     "metadata": {},
     "outputs": [],
     "prompt_number": 6
    },
    {
     "cell_type": "markdown",
     "metadata": {},
     "source": [
      "The input image"
     ]
    },
    {
     "cell_type": "code",
     "collapsed": false,
     "input": [
      "plt.imshow(transformer.deprocess('data', net.blobs['data'].data[0]))"
     ],
     "language": "python",
     "metadata": {},
     "outputs": [
      {
       "metadata": {},
       "output_type": "display_data",
       "png": "iVBORw0KGgoAAAANSUhEUgAAAlIAAAJOCAYAAAB8y+mTAAAABHNCSVQICAgIfAhkiAAAAAlwSFlz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\ny/yvIy3Byy7r