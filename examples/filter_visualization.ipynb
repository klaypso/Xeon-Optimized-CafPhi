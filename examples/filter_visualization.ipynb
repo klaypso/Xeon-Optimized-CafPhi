{
 "metadata": {
  "description": "Extracting features and visualizing trained filters with an example image, viewed layer-by-layer.",
  "example_name": "Filter visualization",
  "include_in_docs": true,
  "priority": 2,
  "signature": "sha256:64c88129e2eeaa956e4c8a26467ff6119f24ea3d7ef15f8217326249973bea8f"
 },
 "nbformat": 3,
 "nbformat_minor": 0,
 "worksheets": [
  {
   "cells": [
    {
     "cell_type": "markdown",
     "metadata": {},
     "source": [
      "Here we visualize filters and outputs using the network architecture proposed by Krizhevsky et al. for ImageNet and implemented in `caffe`.\n",
      "\n",
      "(This page follows DeCAF visualizations originally by Yangqing Jia.)"
     ]
    },
    {
     "cell_type": "markdown",
     "metadata": {},
     "source": [
      "First, import required modules, set plotting parameters, and run `./scripts/download_model_binary.py models/bvlc_reference_caffenet` to get the pretrained CaffeNet model if it hasn't already been fetched."
     ]
    },
    {
     "cell_type": "code",
     "collapsed": false,
     "input": [
      "import numpy as np\n",
      "import matplotlib.pyplot as plt\n",
      "%matplotlib inline\n",
      "\n",
      "# Make sure that caffe is on the python path:\n",
      "caffe_root = '../'  # this file is expected to be in {caffe_root}/examples\n",
      "import sys\n",
      "sys.path.insert(0, caffe_root + 'python')\n",
      "\n",
      "import caffe\n",
      "\n",
      "plt.rcParams['figure.figsize'] = (10, 10)\n",
      "plt.rcParams['image.interpolation'] = 'nearest'\n",
      "plt.rcParams['image.cmap'] = 'gray'\n",
      "\n",
      "import os\n",
      "if not os.path.isfile(caffe_root + 'models/bvlc_reference_caffenet/bvlc_reference_caffenet.caffemodel'):\n",
      "    print(\"Downloading pre-trained CaffeNet model...\")\n",
      "    !../scripts/download_model_binary.py ../models/bvlc_reference_caffenet"
     ],
     "language": "python",
     "metadata": {},
     "outputs": [],
     "prompt_number": 1
    },
    {
     "cell_type": "markdown",
     "metadata": {},
     "source": [
      "Set Caffe to CPU mode, load the net in the test phase for inference, and configure input preprocessing."
     ]
    },
    {
     "cell_type": "code",
     "collapsed": false,
     "input": [
      "caffe.set_mode_cpu()\n",
      "net = caffe.Net(caffe_root + 'models/bvlc_reference_caffenet/deploy.prototxt',\n",
      "                caffe_root + 'models/bvlc_reference_caffenet/bvlc_reference_caffenet.caffemodel',\n",
      "                caffe.TEST)\n",
      "\n",
      "# input preprocessing: 'data' is the name of the input blob == net.inputs[0]\n",
      "transformer = caffe.io.Transformer({'data': net.blobs['data'].data.shape})\n",
      "transformer.set_transpose('data', (2,0,1))\n",
      "transformer.set_mean('data', np.load(caffe_root + 'python/caffe/imagenet/ilsvrc_2012_mean.npy').mean(1).mean(1)) # mean pixel\n",
      "transformer.set_raw_scale('data', 255)  # the reference model operates on images in [0,255] range instead of [0,1]\n",
      "transformer.set_channel_swap('data', (2,1,0))  # the reference model has channels in BGR order instead of RGB"
     ],
     "language": "python",
     "metadata": {},
     "outputs": [],
     "prompt_number": 2
    },
    {
     "cell_type": "markdown",
     "metadata": {},
     "source": [
      "Classify the image by reshaping the net for the single input then doing the forward pass."
     ]
    },
    {
     "cell_type": "code",
     "collapsed": false,
     "input": [
      "net.blobs['data'].reshape(1,3,227,227)\n",
      "net.blobs['data'].data[...] = transformer.preprocess('data', caffe.io.load_image(caffe_root + 'examples/images/cat.jpg'))\n",
      "out = net.forward()\n",
      "print(\"Predicted class is #{}.\".format(out['prob'].argmax()))"
     ],
     "language": "python",
     "metadata": {},
     "outputs": [
      {
       "output_type": "stream",
       "stream": "stdout",
       "text": [
        "Predicted class is #281.\n"
       ]
      }
     ],
     "prompt_number": 3
    },
    {
     "cell_type": "markdown",
     "metadata": {},
     "source": [
      "The layer features and their shapes (1 is the batch size, corresponding to the single input image in this example)."
     ]
    },
    {
     "cell_type": "code",
     "collapsed": false,
     "input": [
      "[(k, v.data.shape) for k, v in net.blobs.items()]"
     ],
     "language": "python",
     "metadata": {},
     "outputs": [
      {
       "metadata": {},
       "output_type": "pyout",
       "prompt_number": 4,
       "text": [
        "[('data', (1, 3, 227, 227)),\n",
        " ('conv1', (1, 96, 55, 55)),\n",
        " ('pool1', (1, 96, 27, 27)),\n",
        " ('norm1', (1, 96, 27, 27)),\n",
        " ('conv2', (1, 256, 27, 27)),\n",
        " ('pool2', (1, 256, 13, 13)),\n",
        " ('norm2', (1, 256, 13, 13)),\n",
        " ('conv3', (1, 384, 13, 13)),\n",
        " ('conv4', (1, 384, 13, 13)),\n",
        " ('conv5', (1, 256, 13, 13)),\n",
        " ('pool5', (1, 256, 6, 6)),\n",
        " ('fc6', (1, 4096)),\n",
        " ('fc7', (1, 4096)),\n",
        " ('fc8', (1, 1000)),\n",
        " ('prob', (1, 1000))]"
       ]
      }
     ],
     "prompt_number": 4
    },
    {
     "cell_type": "markdown",
     "metadata": {},
     "source": [
      "The parameters and their shapes. The parameters are `net.params['name'][0]` while biases are `net.params['name'][1]`."
     ]
    },
    {
     "cell_type": "code",
     "collapsed": false,
     "input": [
      "[(k, v[0].data.shape) for k, v in net.params.items()]"
     ],
     "language": "python",
     "metadata": {},
     "outputs": [
      {
       "metadata": {},
       "output_type": "pyout",
       "prompt_number": 5,
       "text": [
        "[('conv1', (96, 3, 11, 11)),\n",
        " ('conv2', (256, 48, 5, 5)),\n",
        " ('conv3', (384, 256, 3, 3)),\n",
        " ('conv4', (384, 192, 3, 3)),\n",
        " ('conv5', (256, 192, 3, 3)),\n",
        " ('fc6', (4096, 9216)),\n",
        " ('fc7', (4096, 4096)),\n",
        " ('fc8', (1000, 4096))]"
       ]
      }
     ],
     "prompt_number": 5
    },
    {
     "cell_type": "markdown",
     "metadata": {},
     "source": [
      "Helper functions for visualization"
     ]
    },
    {
     "cell_type": "code",
     "collapsed": false,
     "input": [
      "# take an array of shape (n, height, width) or (n, height, width, channels)\n",
      "# and visualize each (height, width) thing in a grid of size approx. sqrt(n) by sqrt(n)\n",
      "def vis_square(data, padsize=1, padval=0):\n",
      "    data -= data.min()\n",
      "    data /= data.max()\n",
      "    \n",
      "    # force the number of filters to be square\n",
      "    n = int(np.ceil(np.sqrt(data.shape[0])))\n",
      "    padding = ((0, n ** 2 - data.shape[0]), (0, padsize), (0, padsize)) + ((0, 0),) * (data.ndim - 3)\n",
      "    data = np.pad(data, padding, mode='constant', constant_values=(padval, padval))\n",
      "    \n",
      "    # tile the filters into an image\n",
      "    data = data.reshape((n, n) + data.shape[1:]).transpose((0, 2, 1, 3) + tuple(range(4, data.ndim + 1)))\n",
      "    data = data.reshape((n * data.shape[1], n * data.shape[3]) + data.shape[4:])\n",
      "    \n",
      "    plt.imshow(data)"
     ],
     "language": "python",
     "metadata": {},
     "outputs": [],
     "prompt_number": 6
    },
    {
     "cell_type": "markdown",
     "metadata": {},
     "source": [
      "The input image"
     ]
    },
    {
     "cell_type": "code",
     "collapsed": false,
     "input": [
      "plt.imshow(transformer.deprocess('data', net.blobs['data'].data[0]))"
     ],
     "language": "python",
     "metadata": {},
     "outputs": [
      {
       "metadata": {},
       "output_type": "display_data",
       "png": "iVBORw0KGgoAAAANSUhEUgAAAlIAAAJOCAYAAAB8y+mTAAAABHNCSVQICAgIfAhkiAAAAAlwSFlz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