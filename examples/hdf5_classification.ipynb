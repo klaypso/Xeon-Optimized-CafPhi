{
 "metadata": {
  "description": "Use Caffe as a generic SGD optimizer to train logistic regression on non-image HDF5 data.",
  "example_name": "Off-the-shelf SGD for classification",
  "include_in_docs": true,
  "priority": 4,
  "signature": "sha256:741422697d76b1667287180dc7c6360cf105ee774b1e2def800dc8fe80f78f67"
 },
 "nbformat": 3,
 "nbformat_minor": 0,
 "worksheets": [
  {
   "cells": [
    {
     "cell_type": "markdown",
     "metadata": {},
     "source": [
      "# Caffeinated Logistic Regression of HDF5 Data\n",
      "\n",
      "While Caffe is made for deep networks it can likewise represent \"shallow\" models like logistic regression for classification. We'll do simple logistic regression on synthetic data that we'll generate and save to HDF5 to feed vectors to Caffe. Once that model is done, we'll add layers to improve accuracy. That's what Caffe is about: define a model, experiment, and then deploy."
     ]
    },
    {
     "cell_type": "code",
     "collapsed": false,
     "input": [
      "import numpy as np\n",
      "import matplotlib.pyplot as plt\n",
      "%matplotlib inline\n",
      "\n",
      "# Make sure that caffe is on the python path:\n",
      "caffe_root = '../'  # this file is expected to be in {caffe_root}/examples\n",
      "import sys\n",
      "sys.path.insert(0, caffe_root + 'python')\n",
      "\n",
      "import caffe\n",
      "\n",
      "import os\n",
      "import h5py\n",
      "import shutil\n",
      "import tempfile\n",
      "\n",
      "# You may need to 'pip install scikit-learn'\n",
      "import sklearn\n",
      "import sklearn.datasets\n",
      "import sklearn.linear_model"
     ],
     "language": "python",
     "metadata": {},
     "outputs": [],
     "prompt_number": 1
    },
    {
     "cell_type": "markdown",
     "metadata": {},
     "source": [
      "Synthesize a dataset of 10,000 4-vectors for binary classification with 2 informative features and 2 noise features."
     ]
    },
    {
     "cell_type": "code",
     "collapsed": false,
     "input": [
      "X, y = sklearn.datasets.make_classification(\n",
      "    n_samples=10000, n_features=4, n_redundant=0, n_informative=2, \n",
      "    n_clusters_per_class=2, hypercube=False, random_state=0\n",
      ")\n",
      "\n",
      "# Split into train and test\n",
      "X, Xt, y, yt = sklearn.cross_validation.train_test_split(X, y)\n",
      "\n",
      "# Visualize sample of the data\n",
      "ind = np.random.permutation(X.shape[0])[:1000]\n",
      "df = pd.DataFrame(X[ind])\n",
      "_ = pd.scatter_matrix(df, figsize=(9, 9), diagonal='kde', marker='o', s=40, alpha=.4, c=y[ind])"
     ],
     "language": "python",
     "metadata": {},
     "outputs": [
      {
       "metadata": {},
       "output_type": "display_data",
       "png": "iVBORw0KGgoAAAANSUhEUgAAAiMAAAImCAYAAACB54oCAAAABHNCSVQICAgIfAhkiAAAAAlwSFlz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