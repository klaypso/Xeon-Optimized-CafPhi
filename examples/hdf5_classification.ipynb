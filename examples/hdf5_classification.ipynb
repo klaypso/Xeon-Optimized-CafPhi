{
 "metadata": {
  "description": "Use Caffe as a generic SGD optimizer to train logistic regression on non-image HDF5 data.",
  "example_name": "Off-the-shelf SGD for classification",
  "include_in_docs": true,
  "priority": 4,
  "signature": "sha256:741422697d76b1667287180dc7c6360cf105ee774b1e2def800dc8fe80f78f67"
 },
 "nbformat": 3,
 "nbformat_minor": 0,
 "worksheets": [
  {
   "cells": [
    {
     "cell_type": "markdown",
     "metadata": {},
     "source": [
      "# Caffeinated Logistic Regression of HDF5 Data\n",
      "\n",
      "While Caffe is made for deep networks it can likewise represent \"shallow\" models like logistic regression for classification. We'll do simple logistic regression on synthetic data that we'll generate and save to HDF5 to feed vectors to Caffe. Once that model is done, we'll add layers to improve accuracy. That's what Caffe is about: define a model, experiment, and then deploy."
     ]
    },
    {
     "cell_type": "code",
     "collapsed": false,
     "input": [
      "import numpy as np\n",
      "import matplotlib.pyplot as plt\n",
      "%matplotlib inline\n",
      "\n",
      "# Make sure that caffe is on the python path:\n",
      "caffe_root = '../'  # this file is expected to be in {caffe_root}/examples\n",
      "import sys\n",
      "sys.path.insert(0, caffe_root + 'python')\n",
      "\n",
      "import caffe\n",
      "\n",
      "import os\n",
      "import h5py\n",
      "import shutil\n",
      "import tempfile\n",
      "\n",
      "# You may need to 'pip install scikit-learn'\n",
      "import sklearn\n",
      "import sklearn.datasets\n",
      "import sklearn.linear_model"
     ],
     "language": "python",
     "metadata": {},
     "outputs": [],
     "prompt_number": 1
    },
    {
     "cell_type": "markdown",
     "metadata": {},
     "source": [
      "Synthesize a dataset of 10,000 4-vectors for binary classification with 2 informative features and 2 noise features."
     ]
    },
    {
     "cell_type": "code",
     "collapsed": false,
     "input": [
      "X, y = sklearn.datasets.make_classification(\n",
      "    n_samples=10000, n_features=4, n_redundant=0, n_informative=2, \n",
      "    n_clusters_per_class=2, hypercube=False, random_state=0\n",
      ")\n",
      "\n",
      "# Split into train and test\n",
      "X, Xt, y, yt = sklearn.cross_validation.train_test_split(X, y)\n",
      "\n",
      "# Visualize sample of the data\n",
      "ind = np.random.permutation(X.shape[0])[:1000]\n",
      "df = pd.DataFrame(X[ind])\n",
      "_ = pd.scatter_matrix(df, figsize=(9, 9), diagonal='kde', marker='o', s=40, alpha=.4, c=y[ind])"
     ],
     "language": "python",
     "metadata": {},
     "outputs": [
      {
       "metadata": {},
       "output_type": "display_data",
       "png": "iVBORw0KGgoAAAANSUhEUgAAAiMAAAImCAYAAACB54oCAAAABHNCSVQICAgIfAhkiAAAAAlwSFlz\nAAALEgAACxIB0t1+/AAAIABJREFUeJzsvXd4HPd57/uZme2LbcCid5AgCPZeVCja6qIKrViWbcmJ\njhLLshM7Tuyce+95ro99zuPclOPYThxbyoks+cgy1TslFlFi7yBAggQBEHXRge29zOzM/QMURIqU\nREkESUv7eR4+WM7sb/admd2Z77y/twiappEjR44cOXLkyHG5EC+3ATly5MiRI0eOzzc5MZIjR44c\nOXLkuKzkxEiOHDly5MiR47KSEyM5cuTIkSNHjstKTozkyJEjR44cOS4rOTGSI0eOHDly5LisTKsY\nEQThF4Ig7BIE4ZfvW24SBOG3giC8LQjCv06nDTly5MiRI0eOK5tpEyOCICwBrJqmrQEMgiAsO2P1\n94A/aJp2vaZpfz1dNuTIkSNHjhw5rnym0zOyEth6+vU2YPUZ664D7hQEYbsgCHdMow05cuTIkSNH\njiuc6RQjTiB6+nX49P/fZQawEVgH/EgQBGka7ciRI0eOHDlyXMHopnHbYcB++rUDCL1v3U5N02RB\nELqBYmDkzMGCIOTq1OfIkSNHjhyfITRNE863fDrFyH7gW8DzwPXAE2es2wcsFAShBagBJs63gVzf\nnM8XgiBc9nO+ceNm9u8fpapq/pQ9Hk8r11xTwW233XTZ7Orp6WHfviP4fGFmzCjnqqtW4Ha7L5s9\nF5Mr4bxfarLZLEePHuPQoeMoSpaFC2exfPlSzGbzR47ds2cfGzcep6ZmMaIooWkaw8OdNDQYue++\nL18C6y8On8fz/knQNI329nb27z9KNJpg9uwaVq9ejsPhuKDxiqLwr//6GOl0OW53GQCZTIrh4SP8\nxV+sY8aMGdNp/lkIwnl1CDCN0zSaprUAKUEQdgGKpmlNgiD82+nV/wT8PbAH+E9N05TpsiNHjgsl\nlUpx6FA7FRVzpn40giBQUTGHgwfbyGQyl8Wuw4eP8NhjGxkasiCKs2hpifGb32xgbGzsstiT49Oh\naRovvPAazz9/mHi8FEWpYcuWbh5//GnS6fRHjt216whlZXMQxcnZbUEQKC9v4OTJIUKh0IeOz/HH\nxzvv7OTJJ9/B53MhCPXs2zfBI488dcHnur+/n0BAmBIiAAaDCZutlv37W6bL7I/NtKb2apr2fU3T\n1rybMaNp2vdO/x3TNO1mTdNWa5r2xIdvJUeOS0MqlULTdCSTKUZHRwkEAqiqhk6nR1UlUqnUJbcp\nnU6zadMeysqWUlBQitmcR2npDESxim3bdl9ye3J8egYHBzl6dIja2qXY7QVYrQ6qq+czMqJx4kTb\n1PsmPR7DtLe3TwnPbDZLIpHGZLKctU1BEJAkE4lE4pLuS47pJRwOs337Uaqrl+NyFWE251FR0UAy\nWcDevQc/dKyqqng8Hk6cOMH5Ll1mcx6BQGSaLP/4TOc0TY4cf1RYLBYG+zs4fmAAh8GMomlIdjsN\n8+dit+vJy8u75DZNTEwgy0aMxrPd9253OR0dO9A07UNdnzmuPAYGhtDpCs45bzZbCe3tvSxduoR4\nPM4rzzxDsLcXqygSVVVKGxu58557qKgoIhicwOUqmhory2kkKUVBQcGl3p0c08ikCLUjSWffqgsK\nyjl5so11684/zu/389Lvf4/i9ZJOJGg95CGT0jN3/gJEcfJ7FwqNs2pV5TTvwYWTEyM5cpzmSFMT\nlboUmpjAaarBYrQx5B9h3642/vFnP0QUL33BYqPRiKbJ5yyX5TRmsyknRP4IsVhMqOq5U36ZTAqb\nbdLjsfWNN8DjYXV19